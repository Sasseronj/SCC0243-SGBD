{
 "cells": [
  {
   "cell_type": "code",
   "execution_count": 3,
   "id": "a26d82ac",
   "metadata": {},
   "outputs": [],
   "source": [
    "import sys\n",
    "import pandas as pd\n",
    "import os\n",
    "from tqdm import tqdm\n",
    "\n",
    "from influxdb_client import InfluxDBClient, Point, WritePrecision\n",
    "from influxdb_client.client.write_api import SYNCHRONOUS\n",
    "from datetime import datetime\n",
    "from dotenv import dotenv_values\n",
    "from sqlalchemy import create_engine\n",
    "from joblib import Parallel, delayed"
   ]
  },
  {
   "cell_type": "code",
   "execution_count": 4,
   "id": "b5ca9467",
   "metadata": {},
   "outputs": [],
   "source": [
    "token = dotenv_values(\"../../.env.local\")['INFLUXDB_TOKEN']\n",
    "org = \"my-org\"\n",
    "bucket = \"meets\"\n",
    "url = \"http://localhost:8086\""
   ]
  },
  {
   "cell_type": "code",
   "execution_count": 5,
   "id": "f48014b0",
   "metadata": {},
   "outputs": [],
   "source": [
    "# Conexão\n",
    "client = InfluxDBClient(url=url, token=token, org=org)\n",
    "write_api = client.write_api(write_options=SYNCHRONOUS)"
   ]
  },
  {
   "cell_type": "code",
   "execution_count": 6,
   "id": "9488a336",
   "metadata": {},
   "outputs": [],
   "source": [
    "def int_or_none(value):\n",
    "    try:\n",
    "        if value is None:\n",
    "            return None\n",
    "        return int(value)\n",
    "    except (ValueError, TypeError):\n",
    "        return None\n",
    "    \n",
    "def str_or_none(value):\n",
    "    try:\n",
    "        if value is None:\n",
    "            return None\n",
    "        return str(value)\n",
    "    except (ValueError, TypeError):\n",
    "        return None\n",
    "\n",
    "def float_or_none(value):\n",
    "    try:\n",
    "        if value is None:\n",
    "            return None\n",
    "        return float(value)\n",
    "    except (ValueError, TypeError):\n",
    "        return None"
   ]
  },
  {
   "cell_type": "code",
   "execution_count": 5,
   "id": "7631440b",
   "metadata": {},
   "outputs": [
    {
     "name": "stderr",
     "output_type": "stream",
     "text": [
      "100%|██████████| 40/40 [00:00<00:00, 139.28it/s]\n"
     ]
    }
   ],
   "source": [
    "# Meets\n",
    "df_meets = pd.read_parquet(\"../../data/meetings/meetings.parquet\")\n",
    "df_meets[\"meeting_key\"] = df_meets[\"meeting_key\"].astype(str)\n",
    "df_meets[\"date_start\"] = pd.to_datetime(df_meets[\"date_start\"])\n",
    "\n",
    "for _, row in tqdm(df_meets.iterrows(), total=len(df_meets)):\n",
    "    p = (\n",
    "        Point(\"meetings\")\n",
    "        .tag(\"meeting_key\", str_or_none(row[\"meeting_key\"]))\n",
    "        .tag(\"country_code\", str_or_none(row[\"country_code\"]))\n",
    "        .tag(\"circuit_short_name\", str_or_none(row[\"circuit_short_name\"]))\n",
    "        .tag(\"meeting_name\", str_or_none(row[\"meeting_name\"]))\n",
    "        .tag(\"meeting_official_name\", str_or_none(row[\"meeting_official_name\"]))\n",
    "        .tag(\"location\", str_or_none(row[\"location\"]))\n",
    "        .tag(\"country_key\", int_or_none(row[\"country_key\"]))\n",
    "        .tag(\"country_name\", str_or_none(row[\"country_name\"]))\n",
    "        .field(\"circuit_key\", int_or_none(row[\"circuit_key\"]))\n",
    "        .field(\"gmt_offset\", str_or_none(row[\"gmt_offset\"]))\n",
    "        .field(\"year\", int_or_none(row[\"year\"]))\n",
    "        .time(row[\"date_start\"], WritePrecision.NS)\n",
    "    )\n",
    "    write_api.write(bucket=bucket, org=org, record=p)\n"
   ]
  },
  {
   "cell_type": "code",
   "execution_count": 6,
   "id": "d4257fb6",
   "metadata": {},
   "outputs": [
    {
     "name": "stderr",
     "output_type": "stream",
     "text": [
      "100%|██████████| 8419/8419 [01:11<00:00, 118.43it/s]\n"
     ]
    }
   ],
   "source": [
    "# Weather Conditions\n",
    "df_weather = pd.read_parquet(\"../../data/weather_conditions/weather_conditions.parquet\")\n",
    "df_session = pd.read_parquet(\"../../data/sessions/sessions.parquet\")\n",
    "df_weather = df_weather.drop(columns=[\"meeting_key\"])\n",
    "df_weather = df_weather.drop_duplicates(subset=[\"session_key\", \"date\"])\n",
    "df_weather = df_weather[df_weather[\"session_key\"].isin(df_session[\"session_key\"].to_list())]\n",
    "df_weather[\"rainfall\"] = df_weather[\"rainfall\"].astype(bool)\n",
    "\n",
    "for _, row in tqdm(df_weather.iterrows(), total=len(df_weather)):\n",
    "    point = (\n",
    "        Point(\"weather_conditions\")\n",
    "        .tag(\"session_key\", str_or_none(row[\"session_key\"]))\n",
    "        .field(\"track_temperature\", (row[\"track_temperature\"]))\n",
    "        .field(\"wind_speed\", row[\"wind_speed\"])\n",
    "        .field(\"rainfall\", int(row[\"rainfall\"]))  \n",
    "        .field(\"humidity\", row[\"humidity\"])\n",
    "        .field(\"pressure\", row[\"pressure\"])\n",
    "        .field(\"air_temperature\", row[\"air_temperature\"])\n",
    "        .field(\"wind_direction\", row[\"wind_direction\"]) \n",
    "        .time(row[\"date\"], WritePrecision.NS)\n",
    "    )\n",
    "    write_api.write(bucket=bucket, org=org, record=point)"
   ]
  },
  {
   "cell_type": "code",
   "execution_count": null,
   "id": "14de715e",
   "metadata": {},
   "outputs": [],
   "source": [
    "df_weather.head()"
   ]
  },
  {
   "cell_type": "code",
   "execution_count": 7,
   "id": "41650826",
   "metadata": {},
   "outputs": [
    {
     "name": "stderr",
     "output_type": "stream",
     "text": [
      "  0%|          | 0/98 [00:00<?, ?it/s]"
     ]
    },
    {
     "name": "stderr",
     "output_type": "stream",
     "text": [
      "100%|██████████| 98/98 [00:00<00:00, 121.31it/s]\n"
     ]
    }
   ],
   "source": [
    "# Sessions\n",
    "df_sessions = pd.read_parquet(\"../../data/sessions/sessions.parquet\")\n",
    "\n",
    "df_sessions[\"date_start\"] = pd.to_datetime(df_sessions[\"date_start\"])\n",
    "df_sessions[\"date_end\"] = pd.to_datetime(df_sessions[\"date_end\"])\n",
    "\n",
    "for _, row in tqdm(df_sessions.iterrows(), total=len(df_sessions)):\n",
    "    point = (\n",
    "        Point(\"sessions\")\n",
    "        .tag(\"session_key\", str_or_none(row[\"session_key\"]))\n",
    "        .tag(\"meeting_key\", str_or_none(row[\"meeting_key\"]))\n",
    "        .tag(\"location\", str_or_none(row[\"location\"]))\n",
    "        .tag(\"circuit_short_name\", str_or_none(row[\"circuit_short_name\"]))\n",
    "        .tag(\"session_type\", str_or_none(row[\"session_type\"]))  \n",
    "        .tag(\"session_name\", str_or_none(row[\"session_name\"]))\n",
    "        .field(\"year\", row[\"year\"])\n",
    "        .time(row[\"date_start\"], WritePrecision.NS)\n",
    "    )\n",
    "    write_api.write(bucket=bucket, org=org, record=point)"
   ]
  },
  {
   "cell_type": "code",
   "execution_count": 8,
   "id": "987eb575",
   "metadata": {},
   "outputs": [
    {
     "name": "stderr",
     "output_type": "stream",
     "text": [
      "  0%|          | 0/5199 [00:00<?, ?it/s]"
     ]
    },
    {
     "name": "stderr",
     "output_type": "stream",
     "text": [
      "100%|██████████| 5199/5199 [00:44<00:00, 117.22it/s]\n"
     ]
    }
   ],
   "source": [
    "# Drivers\n",
    "df_drivers = pd.read_parquet(\"../../data/drivers/drivers.parquet\")\n",
    "df_drivers = df_drivers.drop(columns=[\"meeting_key\"])\n",
    "\n",
    "for _, row in tqdm(df_drivers.iterrows(), total=len(df_drivers)):\n",
    "    point = (\n",
    "        Point(\"drivers\")\n",
    "        .tag(\"session_key\", str_or_none(row[\"session_key\"]))\n",
    "        .field(\"driver_number\", str_or_none(row[\"driver_number\"]))\n",
    "        .tag(\"broadcast_name\", str_or_none(row[\"broadcast_name\"]))\n",
    "        .tag(\"full_name\", str_or_none(row[\"full_name\"]))\n",
    "        .tag(\"name_acronym\", str_or_none(row[\"name_acronym\"]))\n",
    "        .tag(\"team_name\", str_or_none(row[\"team_name\"]))\n",
    "        .tag(\"team_colour\", str_or_none(row[\"team_colour\"]))\n",
    "        .tag(\"first_name\", str_or_none(row[\"first_name\"]))\n",
    "        .tag(\"last_name\", str_or_none(row[\"last_name\"]))\n",
    "        .tag(\"headshot_url\", str_or_none(row[\"headshot_url\"]))\n",
    "        .tag(\"country_code\", str_or_none(row[\"country_code\"]))\n",
    "        .time(pd.Timestamp.utcnow(), WritePrecision.NS)\n",
    "    )\n",
    "    write_api.write(bucket=bucket, org=org, record=point)"
   ]
  },
  {
   "cell_type": "code",
   "execution_count": 11,
   "id": "df4f3f1b",
   "metadata": {},
   "outputs": [
    {
     "name": "stderr",
     "output_type": "stream",
     "text": [
      "  0%|          | 0/7686 [00:00<?, ?it/s]"
     ]
    },
    {
     "name": "stderr",
     "output_type": "stream",
     "text": [
      "100%|██████████| 7686/7686 [00:00<00:00, 11153.67it/s]\n"
     ]
    }
   ],
   "source": [
    "# tyre_stints\n",
    "df_tyre_strints = pd.read_parquet(\"../../data/stints/stints.parquet\")\n",
    "df_tyre_strints = df_tyre_strints.drop(columns=[\"meeting_key\"])\n",
    "df_tyre_strints = df_tyre_strints.drop_duplicates(subset=[\"session_key\", \"stint_number\", \"driver_number\"])\n",
    "\n",
    "df_tyre_strints[\"lap_start\"] = pd.to_datetime(df_tyre_strints[\"lap_start\"])\n",
    "\n",
    "for _, row in tqdm(df_tyre_strints.iterrows(), total=len(df_tyre_strints)):\n",
    "    try:\n",
    "        point = (\n",
    "            Point(\"tyre_stints\")\n",
    "            .tag(\"driver_number\", str_or_none(row[\"driver_number\"]))\n",
    "            .tag(\"session_key\", str_or_none(row[\"session_key\"]))\n",
    "            .tag(\"compound\", str_or_none(row[\"compound\"]))\n",
    "            .field(\"stint_number\", int(row[\"stint_number\"]))\n",
    "            .field(\"tyre_age_at_start\", float(row[\"tyre_age_at_start\"]) if not pd.isna(row[\"tyre_age_at_start\"]) else None)\n",
    "            .time(df_tyre_strints[\"lap_start\"], WritePrecision.NS)\n",
    "        )\n",
    "        write_api.write(bucket=bucket, org=org, record=point)\n",
    "    except Exception as e:\n",
    "        pass"
   ]
  },
  {
   "cell_type": "code",
   "execution_count": 14,
   "id": "b5f4dd98",
   "metadata": {},
   "outputs": [
    {
     "name": "stderr",
     "output_type": "stream",
     "text": [
      "100%|██████████| 29572/29572 [00:02<00:00, 11925.84it/s]\n"
     ]
    }
   ],
   "source": [
    "df_laps = pd.read_parquet(\"../../data/laps/laps.parquet\")\n",
    "df_laps = df_laps.drop(columns=[\"meeting_key\"])\n",
    "df_laps = df_laps.drop(columns=[\"segments_sector_1\", \"segments_sector_2\", \"segments_sector_3\"])\n",
    "\n",
    "df_laps[\"date_start\"] = pd.to_datetime(df_laps[\"date_start\"], format='ISO8601', utc=True)\n",
    "\n",
    "for _, row in tqdm(df_laps.iterrows(), total=len(df_laps)):\n",
    "    point = (\n",
    "        Point(\"laps\")\n",
    "        .tag(\"session_key\", str_or_none(row[\"session_key\"]))\n",
    "        .tag(\"driver_number\", str_or_none(row[\"driver_number\"]))\n",
    "        .tag(\"is_pit_out_lap\", str_or_none(row[\"is_pit_out_lap\"]))\n",
    "        .field(\"i1_speed\", float_or_none(row[\"i1_speed\"]))\n",
    "        .field(\"i2_speed\", float_or_none(row[\"i2_speed\"]))\n",
    "        .field(\"st_speed\", float_or_none(row[\"st_speed\"]))\n",
    "        .field(\"lap_duration\", float_or_none(row[\"lap_duration\"]))\n",
    "        .field(\"duration_sector_1\", float_or_none(row[\"duration_sector_1\"]))\n",
    "        .field(\"duration_sector_2\", float_or_none(row[\"duration_sector_2\"]))\n",
    "        .field(\"duration_sector_3\", float_or_none(row[\"duration_sector_3\"]))\n",
    "        .field(\"lap_number\", int_or_none(row[\"lap_number\"]))\n",
    "        .time(row[\"date_start\"], WritePrecision.NS)\n",
    "    )"
   ]
  },
  {
   "cell_type": "code",
   "execution_count": 16,
   "id": "7a73c8cd",
   "metadata": {},
   "outputs": [
    {
     "name": "stderr",
     "output_type": "stream",
     "text": [
      "  0%|          | 0/4455 [00:00<?, ?it/s]"
     ]
    },
    {
     "name": "stderr",
     "output_type": "stream",
     "text": [
      "100%|██████████| 4455/4455 [01:14<00:00, 60.12it/s]\n"
     ]
    }
   ],
   "source": [
    "df_pits = pd.read_parquet(\"../../data/pits/pits.parquet\")\n",
    "df_pits = df_pits.drop(columns=[\"meeting_key\"])\n",
    "\n",
    "df_pits[\"date\"] = pd.to_datetime(df_pits[\"date\"], format='ISO8601', utc=True)\n",
    "\n",
    "for _, row in tqdm(df_pits.iterrows(), total=len(df_pits)):\n",
    "    point = (\n",
    "        Point(\"pits\")\n",
    "        .tag(\"session_key\", str_or_none(row[\"session_key\"]))\n",
    "        .tag(\"driver_number\", str_or_none(row[\"driver_number\"]))\n",
    "        .tag(\"lap_number\", str_or_none(row[\"lap_number\"]))\n",
    "        .field(\"pit_duration\", float_or_none(row[\"pit_duration\"]))\n",
    "        .time(row[\"date\"], WritePrecision.NS)\n",
    "    )\n",
    "    write_api.write(bucket=bucket, org=org, record=point)"
   ]
  },
  {
   "cell_type": "code",
   "execution_count": 18,
   "id": "2cb7eaae",
   "metadata": {},
   "outputs": [
    {
     "name": "stderr",
     "output_type": "stream",
     "text": [
      "100%|██████████| 68407/68407 [09:57<00:00, 114.51it/s]\n"
     ]
    }
   ],
   "source": [
    "df_positions = pd.read_parquet(\"../../data/positions/positions.parquet\")\n",
    "df_positions = df_positions.drop(columns=[\"meeting_key\"])\n",
    "df_positions = df_positions.drop_duplicates(subset=[\"session_key\", \"driver_number\", \"date\"])\n",
    "\n",
    "df_positions[\"date\"] = pd.to_datetime(df_positions[\"date\"], format='ISO8601', utc=True)\n",
    "\n",
    "for _, row in tqdm(df_positions.iterrows(), total=len(df_positions)):\n",
    "    point = (\n",
    "        Point(\"positions\")\n",
    "        .tag(\"session_key\", str_or_none(row[\"session_key\"]))\n",
    "        .tag(\"driver_number\", str_or_none(row[\"driver_number\"]))\n",
    "        .field(\"position\", int(row[\"position\"]))\n",
    "        .time(row[\"date\"], WritePrecision.NS)\n",
    "    )\n",
    "    write_api.write(bucket=bucket, org=org, record=point)"
   ]
  },
  {
   "cell_type": "code",
   "execution_count": 9,
   "id": "2c719183",
   "metadata": {},
   "outputs": [],
   "source": [
    "def process_telemetry(file_path):\n",
    "    try:\n",
    "        client = InfluxDBClient(url=url, token=token, org=org)\n",
    "        write_api = client.write_api(write_options=SYNCHRONOUS)\n",
    "\n",
    "        df_telemetry = pd.read_parquet(file_path)\n",
    "        print(f\"Processing file: {file_path} {df_telemetry.shape}\")\n",
    "\n",
    "        if \"meeting_key\" in df_telemetry.columns:\n",
    "            df_telemetry = df_telemetry.drop(columns=[\"meeting_key\"])\n",
    "        \n",
    "        df_telemetry = df_telemetry.drop_duplicates(subset=[\"session_key\", \"driver_number\", \"date\"])\n",
    "        \n",
    "        df_telemetry[\"date\"] = pd.to_datetime(df_telemetry[\"date\"], format='ISO8601', utc=True)\n",
    "\n",
    "        for _, row in df_telemetry.iterrows():\n",
    "            point = (\n",
    "                Point(\"telemetry\")\n",
    "                .tag(\"driver_number\", str_or_none(row[\"driver_number\"]))\n",
    "                .tag(\"session_key\", str_or_none(row[\"session_key\"]))\n",
    "                .field(\"rpm\", int(row[\"rpm\"]))\n",
    "                .field(\"speed\", int(row[\"speed\"]))\n",
    "                .field(\"n_gear\", int(row[\"n_gear\"]))\n",
    "                .field(\"throttle\", int(row[\"throttle\"]))\n",
    "                .field(\"brake\", int(row[\"brake\"]))\n",
    "                .field(\"drs\", int(row[\"drs\"]))\n",
    "                .time(row[\"date\"], WritePrecision.NS)\n",
    "            )\n",
    "            write_api.write(bucket=bucket, org=org, record=point)\n",
    "    except:\n",
    "        print(f\"Error processing file {file_path}\")"
   ]
  },
  {
   "cell_type": "code",
   "execution_count": null,
   "id": "88cd2ab2",
   "metadata": {},
   "outputs": [
    {
     "name": "stdout",
     "output_type": "stream",
     "text": [
      "Processing file: ../../data/telemetrys/session_key=9498&driver_number=20.parquet (16965, 10)\n",
      "Processing file: ../../data/telemetrys/session_key=10007&driver_number=38.parquet (17997, 10)Processing file: ../../data/telemetrys/session_key=9532&driver_number=63.parquet (18021, 10)\n",
      "\n",
      "Processing file: ../../data/telemetrys/session_key=9687&driver_number=44.parquet (17276, 10)\n",
      "Processing file: ../../data/telemetrys/session_key=9602&driver_number=14.parquet (20600, 10)\n",
      "Processing file: ../../data/telemetrys/session_key=9994&driver_number=87.parquet (17013, 10)\n",
      "Processing file: ../../data/telemetrys/session_key=9278&driver_number=14.parquet (15376, 10)\n",
      "Processing file: ../../data/telemetrys/session_key=9989&driver_number=6.parquet (13437, 10)\n",
      "Processing file: ../../data/telemetrys/session_key=9620&driver_number=44.parquet (18578, 10)\n",
      "Processing file: ../../data/telemetrys/session_key=9534&driver_number=10.parquet (17763, 10)\n",
      "Processing file: ../../data/telemetrys/session_key=9554&driver_number=31.parquet (19265, 10)\n",
      "Processing file: ../../data/telemetrys/session_key=7772&driver_number=1.parquet (18582, 10)\n",
      "Processing file: ../../data/telemetrys/session_key=9575&driver_number=55.parquet (18398, 10)\n",
      "Processing file: ../../data/telemetrys/session_key=9489&driver_number=10.parquet (18010, 10)\n",
      "Processing file: ../../data/telemetrys/session_key=9524&driver_number=81.parquet (17304, 10)\n",
      "Processing file: ../../data/telemetrys/session_key=9294&driver_number=22.parquet (13984, 10)\n",
      "Processing file: ../../data/telemetrys/session_key=9314&driver_number=23.parquet (17848, 10)\n",
      "Processing file: ../../data/telemetrys/session_key=9533&driver_number=81.parquet (17793, 10)\n",
      "Processing file: ../../data/telemetrys/session_key=9535&driver_number=44.parquet (17010, 10)\n",
      "Processing file: ../../data/telemetrys/session_key=9594&driver_number=77.parquet (17144, 10)\n",
      "Processing file: ../../data/telemetrys/session_key=9567&driver_number=24.parquet (18741, 10)\n",
      "Processing file: ../../data/telemetrys/session_key=9483&driver_number=81.parquet (18377, 10)\n",
      "Processing file: ../../data/telemetrys/session_key=9619&driver_number=44.parquet (24621, 10)\n",
      "Processing file: ../../data/telemetrys/session_key=9089&driver_number=77.parquet (16454, 10)\n",
      "Processing file: ../../data/telemetrys/session_key=9567&driver_number=1.parquet (18742, 10)\n",
      "Processing file: ../../data/telemetrys/session_key=9106&driver_number=22.parquet (20316, 10)\n",
      "Processing file: ../../data/telemetrys/session_key=9559&driver_number=31.parquet (17569, 10)\n",
      "Processing file: ../../data/telemetrys/session_key=9586&driver_number=77.parquet (17398, 10)\n",
      "Processing file: ../../data/telemetrys/session_key=9223&driver_number=8.parquet (0, 0)\n",
      "Error processing file ../../data/telemetrys/session_key=9223&driver_number=8.parquet\n",
      "Processing file: ../../data/telemetrys/session_key=9559&driver_number=22.parquet (17574, 10)\n",
      "Processing file: ../../data/telemetrys/session_key=9465&driver_number=3.parquet (18810, 10)\n",
      "Processing file: ../../data/telemetrys/session_key=9993&driver_number=31.parquet (15969, 10)\n",
      "Processing file: ../../data/telemetrys/session_key=9559&driver_number=2.parquet (17576, 10)\n",
      "Processing file: ../../data/telemetrys/session_key=10006&driver_number=44.parquet (29268, 10)\n",
      "Processing file: ../../data/telemetrys/session_key=9687&driver_number=16.parquet (17274, 10)\n",
      "Processing file: ../../data/telemetrys/session_key=9525&driver_number=31.parquet (18079, 10)\n",
      "Processing file: ../../data/telemetrys/session_key=9506&driver_number=3.parquet (18412, 10)\n",
      "Processing file: ../../data/telemetrys/session_key=9474&driver_number=44.parquet (20632, 10)\n",
      "Processing file: ../../data/telemetrys/session_key=9489&driver_number=77.parquet (17994, 10)\n",
      "Processing file: ../../data/telemetrys/session_key=9097&driver_number=23.parquet (18363, 10)\n",
      "Processing file: ../../data/telemetrys/session_key=9989&driver_number=10.parquet (13436, 10)\n",
      "Processing file: ../../data/telemetrys/session_key=9988&driver_number=6.parquet (18341, 10)\n",
      "Processing file: ../../data/telemetrys/session_key=9619&driver_number=10.parquet (24625, 10)\n",
      "Processing file: ../../data/telemetrys/session_key=9489&driver_number=4.parquet (18012, 10)\n",
      "Processing file: ../../data/telemetrys/session_key=10007&driver_number=7.parquet (18011, 10)\n",
      "Processing file: ../../data/telemetrys/session_key=9474&driver_number=77.parquet (20632, 10)\n",
      "Processing file: ../../data/telemetrys/session_key=9519&driver_number=1.parquet (17236, 10)\n",
      "Processing file: ../../data/telemetrys/session_key=7768&driver_number=77.parquet (19721, 10)\n",
      "Processing file: ../../data/telemetrys/session_key=9693&driver_number=16.parquet (37956, 10)\n",
      "Processing file: ../../data/telemetrys/session_key=9535&driver_number=20.parquet (17017, 10)\n",
      "Processing file: ../../data/telemetrys/session_key=9559&driver_number=14.parquet (17575, 10)\n",
      "Processing file: ../../data/telemetrys/session_key=9073&driver_number=24.parquet (18342, 10)\n",
      "Processing file: ../../data/telemetrys/session_key=9304&driver_number=44.parquet (19584, 10)\n",
      "Processing file: ../../data/telemetrys/session_key=9540&driver_number=16.parquet (15394, 10)\n",
      "Processing file: ../../data/telemetrys/session_key=9095&driver_number=23.parquet (18299, 10)\n",
      "Processing file: ../../data/telemetrys/session_key=9534&driver_number=4.parquet (17765, 10)\n",
      "Processing file: ../../data/telemetrys/session_key=9492&driver_number=18.parquet (17237, 10)\n",
      "Processing file: ../../data/telemetrys/session_key=9567&driver_number=3.parquet (18734, 10)\n",
      "Processing file: ../../data/telemetrys/session_key=7767&driver_number=27.parquet (18830, 10)\n",
      "Processing file: ../../data/telemetrys/session_key=9525&driver_number=23.parquet (18070, 10)\n",
      "Processing file: ../../data/telemetrys/session_key=10010&driver_number=81.parquet (19125, 10)\n",
      "Processing file: ../../data/telemetrys/session_key=9087&driver_number=44.parquet (16536, 10)\n",
      "Processing file: ../../data/telemetrys/session_key=9601&driver_number=4.parquet (18382, 10)\n",
      "Processing file: ../../data/telemetrys/session_key=9524&driver_number=23.parquet (17305, 10)\n",
      "Processing file: ../../data/telemetrys/session_key=9584&driver_number=22.parquet (17844, 10)\n",
      "Processing file: ../../data/telemetrys/session_key=9064&driver_number=81.parquet (24012, 10)\n",
      "Processing file: ../../data/telemetrys/session_key=9525&driver_number=18.parquet (18071, 10)\n",
      "Processing file: ../../data/telemetrys/session_key=9608&driver_number=14.parquet (17118, 10)\n",
      "Processing file: ../../data/telemetrys/session_key=9475&driver_number=77.parquet (18467, 10)\n",
      "Processing file: ../../data/telemetrys/session_key=9535&driver_number=31.parquet (17004, 10)\n",
      "Processing file: ../../data/telemetrys/session_key=9073&driver_number=77.parquet (18338, 10)\n",
      "Processing file: ../../data/telemetrys/session_key=9560&driver_number=44.parquet (17534, 10)\n",
      "Processing file: ../../data/telemetrys/session_key=9593&driver_number=77.parquet (17724, 10)\n",
      "Processing file: ../../data/telemetrys/session_key=9298&driver_number=4.parquet (15493, 10)\n",
      "Processing file: ../../data/telemetrys/session_key=9294&driver_number=55.parquet (13981, 10)\n",
      "Processing file: ../../data/telemetrys/session_key=9524&driver_number=77.parquet (17306, 10)\n",
      "Processing file: ../../data/telemetrys/session_key=9461&driver_number=40.parquet (17533, 10)\n",
      "Processing file: ../../data/telemetrys/session_key=9545&driver_number=27.parquet (12858, 10)\n",
      "Processing file: ../../data/telemetrys/session_key=9612&driver_number=18.parquet (14046, 10)\n",
      "Processing file: ../../data/telemetrys/session_key=9489&driver_number=63.parquet (18006, 10)\n",
      "Processing file: ../../data/telemetrys/session_key=9569&driver_number=1.parquet (17687, 10)\n",
      "Processing file: ../../data/telemetrys/session_key=9304&driver_number=18.parquet (19583, 10)\n",
      "Processing file: ../../data/telemetrys/session_key=9492&driver_number=2.parquet (17242, 10)\n",
      "Processing file: ../../data/telemetrys/session_key=9517&driver_number=77.parquet (18355, 10)\n",
      "Processing file: ../../data/telemetrys/session_key=10006&driver_number=7.parquet (29268, 10)\n",
      "Processing file: ../../data/telemetrys/session_key=9552&driver_number=44.parquet (17295, 10)\n",
      "Processing file: ../../data/telemetrys/session_key=9089&driver_number=18.parquet (16454, 10)\n",
      "Processing file: ../../data/telemetrys/session_key=9533&driver_number=18.parquet (17800, 10)\n",
      "Processing file: ../../data/telemetrys/session_key=9294&driver_number=14.parquet (13988, 10)\n",
      "Processing file: ../../data/telemetrys/session_key=9993&driver_number=87.parquet (15953, 10)\n",
      "Processing file: ../../data/telemetrys/session_key=9612&driver_number=30.parquet (14041, 10)\n",
      "Processing file: ../../data/telemetrys/session_key=9535&driver_number=1.parquet (17012, 10)\n",
      "Processing file: ../../data/telemetrys/session_key=9519&driver_number=18.parquet (17234, 10)\n",
      "Processing file: ../../data/telemetrys/session_key=9484&driver_number=81.parquet (17750, 10)\n",
      "Processing file: ../../data/telemetrys/session_key=9575&driver_number=24.parquet (18400, 10)\n",
      "Processing file: ../../data/telemetrys/session_key=7773&driver_number=31.parquet (18768, 10)\n",
      "Processing file: ../../data/telemetrys/session_key=9278&driver_number=1.parquet (15371, 10)\n"
     ]
    }
   ],
   "source": [
    "path_telemetrys = \"../../data/telemetrys\"\n",
    "if not os.path.isdir(path_telemetrys):\n",
    "    raise FileNotFoundError(f\"Directory does not exist: {path_telemetrys}\")\n",
    "\n",
    "files = [f for f in os.listdir(path_telemetrys) if f.endswith(\".parquet\")]\n",
    "\n",
    "Parallel(n_jobs=-1)(\n",
    "    delayed(process_telemetry)(os.path.join(path_telemetrys, file))\n",
    "    for file in files\n",
    ")"
   ]
  },
  {
   "cell_type": "code",
   "execution_count": null,
   "id": "edfa5b59",
   "metadata": {},
   "outputs": [],
   "source": [
    "client.close()\n"
   ]
  },
  {
   "cell_type": "code",
   "execution_count": null,
   "id": "7dda55a0",
   "metadata": {},
   "outputs": [],
   "source": []
  }
 ],
 "metadata": {
  "kernelspec": {
   "display_name": "Python 3",
   "language": "python",
   "name": "python3"
  },
  "language_info": {
   "codemirror_mode": {
    "name": "ipython",
    "version": 3
   },
   "file_extension": ".py",
   "mimetype": "text/x-python",
   "name": "python",
   "nbconvert_exporter": "python",
   "pygments_lexer": "ipython3",
   "version": "3.10.12"
  }
 },
 "nbformat": 4,
 "nbformat_minor": 5
}
