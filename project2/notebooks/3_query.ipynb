{
 "cells": [
  {
   "cell_type": "markdown",
   "id": "dae96ee8",
   "metadata": {},
   "source": [
    "# Imports"
   ]
  },
  {
   "cell_type": "code",
   "execution_count": 1,
   "id": "92be18f7",
   "metadata": {},
   "outputs": [],
   "source": [
    "import sys\n",
    "import pandas as pd\n",
    "import os\n",
    "from tqdm import tqdm\n",
    "\n",
    "from influxdb_client import InfluxDBClient, Point, WritePrecision\n",
    "from influxdb_client.client.write_api import SYNCHRONOUS\n",
    "from dotenv import dotenv_values\n",
    "import warnings\n",
    "from influxdb_client.client.warnings import MissingPivotFunction\n",
    "\n",
    "warnings.simplefilter(\"ignore\", MissingPivotFunction)"
   ]
  },
  {
   "cell_type": "markdown",
   "id": "129e28a0",
   "metadata": {},
   "source": [
    "# Defines"
   ]
  },
  {
   "cell_type": "code",
   "execution_count": 2,
   "id": "3acd83cf",
   "metadata": {},
   "outputs": [],
   "source": [
    "token = dotenv_values(\"../../.env.local\")['INFLUXDB_TOKEN']\n",
    "org = \"my-org\"\n",
    "bucket = \"bucket-session-key\"\n",
    "url = \"http://localhost:8086\""
   ]
  },
  {
   "cell_type": "code",
   "execution_count": 3,
   "id": "deb17597",
   "metadata": {},
   "outputs": [],
   "source": [
    "client = InfluxDBClient(url=url, token=token, org=org, timeout=60_000 * 2)\n",
    "query_api = client.query_api()"
   ]
  },
  {
   "cell_type": "markdown",
   "id": "5d9ec1fd",
   "metadata": {},
   "source": [
    "# sql query"
   ]
  },
  {
   "cell_type": "code",
   "execution_count": 5,
   "id": "9066cb99",
   "metadata": {},
   "outputs": [],
   "source": [
    "third_query = f\"\"\"\n",
    "    SELECT  \n",
    "        TS.compound AS CompostoPneu,\n",
    "        AVG(WC.track_temperature)::NUMERIC(8,2) AS TemperaturaMediaPista,\n",
    "        MAX(TS.lap_end - TS.lap_start) AS MaxLapDurationTyre\n",
    "    FROM tyre_stints AS TS\n",
    "    INNER JOIN weather_conditions AS WC ON WC.session_key = TS.session_key\n",
    "    GROUP BY TS.compound\n",
    "    ORDER BY MaxLapDurationTyre DESC\n",
    "\"\"\""
   ]
  },
  {
   "cell_type": "markdown",
   "id": "c43d086f",
   "metadata": {},
   "source": [
    "# raw data"
   ]
  },
  {
   "cell_type": "code",
   "execution_count": 6,
   "id": "ffad23f7",
   "metadata": {},
   "outputs": [],
   "source": [
    "query = \"\"\"\n",
    "tyreData = from(bucket: \"bucket-session-key\")\n",
    "  |> range(start: 0)\n",
    "  |> filter(fn: (r) => r._measurement == \"tyre_stints\")\n",
    "  |> pivot(rowKey: [\"_time\"], columnKey: [\"_field\"], valueColumn: \"_value\")\n",
    "  |> map(fn: (r) => ({ r with lap_duration: float(v: r.lap_end) - float(v: r.lap_start) }))\n",
    "\n",
    "\n",
    "weatherData = from(bucket: \"bucket-session-key\")\n",
    "  |> range(start: 0)\n",
    "  |> filter(fn: (r) => r._measurement == \"weather_conditions\" and r._field == \"track_temperature\")\n",
    "  |> keep(columns: [\"_time\", \"session_key\", \"_value\"])\n",
    "  |> rename(columns: {_value: \"track_temperature\"})\n",
    "\n",
    "joined = join(\n",
    "  tables: {tyre: tyreData, weather: weatherData},\n",
    "  on: [\"session_key\"]\n",
    ")\n",
    "\n",
    "joined\n",
    "  |> group(columns: [\"compound\"])\n",
    "  |> reduce(\n",
    "    identity: {count: 0.0, temp_sum: 0.0, max_lap: 0.0, compound: \"\"},\n",
    "    fn: (r, accumulator) => ({\n",
    "      count: accumulator.count + 1.0,\n",
    "      temp_sum: accumulator.temp_sum + r.track_temperature,\n",
    "      max_lap: if r.lap_duration > accumulator.max_lap then r.lap_duration else accumulator.max_lap,\n",
    "      compound: r.compound\n",
    "    })\n",
    "  )\n",
    "  |> map(fn: (r) => ({\n",
    "    CompostoPneu: r.compound,\n",
    "    TemperaturaMediaPista: r.temp_sum / r.count,\n",
    "    MaxLapDurationTyre: r.max_lap\n",
    "  }))\n",
    "  |> sort(columns: [\"MaxLapDurationTyre\"], desc: true)\n",
    "\"\"\"\n",
    "\n",
    "try:\n",
    "    df = query_api.query_data_frame(query=query)\n",
    "    if isinstance(df, list):\n",
    "        df = pd.concat(df, ignore_index=True)\n",
    "except Exception as e:\n",
    "    print(f\"Erro ao executar a consulta: {e}\")"
   ]
  },
  {
   "cell_type": "code",
   "execution_count": 7,
   "id": "30534333",
   "metadata": {},
   "outputs": [
    {
     "data": {
      "text/html": [
       "<div>\n",
       "<style scoped>\n",
       "    .dataframe tbody tr th:only-of-type {\n",
       "        vertical-align: middle;\n",
       "    }\n",
       "\n",
       "    .dataframe tbody tr th {\n",
       "        vertical-align: top;\n",
       "    }\n",
       "\n",
       "    .dataframe thead th {\n",
       "        text-align: right;\n",
       "    }\n",
       "</style>\n",
       "<table border=\"1\" class=\"dataframe\">\n",
       "  <thead>\n",
       "    <tr style=\"text-align: right;\">\n",
       "      <th></th>\n",
       "      <th>result</th>\n",
       "      <th>table</th>\n",
       "      <th>CompostoPneu</th>\n",
       "      <th>TemperaturaMediaPista</th>\n",
       "      <th>MaxLapDurationTyre</th>\n",
       "    </tr>\n",
       "  </thead>\n",
       "  <tbody>\n",
       "    <tr>\n",
       "      <th>0</th>\n",
       "      <td>_result</td>\n",
       "      <td>0</td>\n",
       "      <td>HARD</td>\n",
       "      <td>37.730272</td>\n",
       "      <td>55.0</td>\n",
       "    </tr>\n",
       "    <tr>\n",
       "      <th>1</th>\n",
       "      <td>_result</td>\n",
       "      <td>0</td>\n",
       "      <td>MEDIUM</td>\n",
       "      <td>37.951413</td>\n",
       "      <td>54.0</td>\n",
       "    </tr>\n",
       "    <tr>\n",
       "      <th>2</th>\n",
       "      <td>_result</td>\n",
       "      <td>0</td>\n",
       "      <td>SOFT</td>\n",
       "      <td>36.607010</td>\n",
       "      <td>28.0</td>\n",
       "    </tr>\n",
       "    <tr>\n",
       "      <th>3</th>\n",
       "      <td>_result</td>\n",
       "      <td>0</td>\n",
       "      <td>INTERMEDIATE</td>\n",
       "      <td>21.812635</td>\n",
       "      <td>25.0</td>\n",
       "    </tr>\n",
       "    <tr>\n",
       "      <th>4</th>\n",
       "      <td>_result</td>\n",
       "      <td>0</td>\n",
       "      <td>WET</td>\n",
       "      <td>25.267131</td>\n",
       "      <td>16.0</td>\n",
       "    </tr>\n",
       "    <tr>\n",
       "      <th>5</th>\n",
       "      <td>_result</td>\n",
       "      <td>0</td>\n",
       "      <td>UNKNOWN</td>\n",
       "      <td>33.745252</td>\n",
       "      <td>13.0</td>\n",
       "    </tr>\n",
       "    <tr>\n",
       "      <th>6</th>\n",
       "      <td>_result</td>\n",
       "      <td>0</td>\n",
       "      <td>TEST_UNKNOWN</td>\n",
       "      <td>38.309466</td>\n",
       "      <td>12.0</td>\n",
       "    </tr>\n",
       "  </tbody>\n",
       "</table>\n",
       "</div>"
      ],
      "text/plain": [
       "    result  table  CompostoPneu  TemperaturaMediaPista  MaxLapDurationTyre\n",
       "0  _result      0          HARD              37.730272                55.0\n",
       "1  _result      0        MEDIUM              37.951413                54.0\n",
       "2  _result      0          SOFT              36.607010                28.0\n",
       "3  _result      0  INTERMEDIATE              21.812635                25.0\n",
       "4  _result      0           WET              25.267131                16.0\n",
       "5  _result      0       UNKNOWN              33.745252                13.0\n",
       "6  _result      0  TEST_UNKNOWN              38.309466                12.0"
      ]
     },
     "execution_count": 7,
     "metadata": {},
     "output_type": "execute_result"
    }
   ],
   "source": [
    "df"
   ]
  },
  {
   "cell_type": "markdown",
   "id": "b6319d7a",
   "metadata": {},
   "source": [
    "# New format"
   ]
  },
  {
   "cell_type": "code",
   "execution_count": 4,
   "id": "521b5df3",
   "metadata": {},
   "outputs": [],
   "source": [
    "df_tyre_strints = pd.read_parquet(\"../../data/stints/stints.parquet\").dropna()\n",
    "df_tyre_strints = df_tyre_strints.drop(columns=[\"meeting_key\"])\n",
    "df_tyre_strints = df_tyre_strints.drop_duplicates(subset=[\"session_key\", \"stint_number\", \"driver_number\"])"
   ]
  },
  {
   "cell_type": "code",
   "execution_count": 5,
   "id": "dac16288",
   "metadata": {},
   "outputs": [],
   "source": [
    "df_weather = pd.read_parquet(\"../../data/weather_conditions/weather_conditions.parquet\").dropna()\n",
    "df_session = pd.read_parquet(\"../../data/sessions/sessions.parquet\")\n",
    "df_weather = df_weather.drop(columns=[\"meeting_key\"])\n",
    "df_weather = df_weather.drop_duplicates(subset=[\"session_key\", \"date\"])\n",
    "df_weather = df_weather[df_weather[\"session_key\"].isin(df_session[\"session_key\"].to_list())]\n",
    "df_weather[\"rainfall\"] = df_weather[\"rainfall\"].astype(bool)"
   ]
  },
  {
   "cell_type": "code",
   "execution_count": 6,
   "id": "0c6d46dc",
   "metadata": {},
   "outputs": [],
   "source": [
    "df_query = pd.merge(df_tyre_strints, df_weather, on=\"session_key\", how=\"left\")"
   ]
  },
  {
   "cell_type": "code",
   "execution_count": null,
   "id": "fa3e66f6",
   "metadata": {},
   "outputs": [
    {
     "name": "stderr",
     "output_type": "stream",
     "text": [
      "  0%|          | 0/597888 [00:00<?, ?it/s]"
     ]
    },
    {
     "name": "stderr",
     "output_type": "stream",
     "text": [
      "100%|██████████| 597888/597888 [1:56:29<00:00, 85.54it/s]  \n"
     ]
    }
   ],
   "source": [
    "write_api = client.write_api(write_options=SYNCHRONOUS)\n",
    "\n",
    "for _, row in tqdm(df_query.iterrows(), total=len(df_query)):\n",
    "    point = (\n",
    "        Point(\"query3\")\n",
    "        .tag(\"session_key\", str(row[\"session_key\"]))\n",
    "        .tag(\"compound\", str(row[\"compound\"]))\n",
    "        .tag(\"driver_number\", str(row[\"driver_number\"]))\n",
    "        .field(\"stint_number\", int(row[\"stint_number\"]))\n",
    "        .field(\"tyre_age_at_start\", float(row[\"tyre_age_at_start\"]))\n",
    "        .field(\"lap_start\", int(row[\"lap_start\"]))\n",
    "        .field(\"lap_end\", int(row[\"lap_end\"]))\n",
    "        .field(\"track_temperature\", float(row[\"track_temperature\"]))\n",
    "        .field(\"wind_speed\", float(row[\"wind_speed\"]))\n",
    "        .field(\"rainfall\", int(row[\"rainfall\"]))  \n",
    "        .field(\"humidity\", float(row[\"humidity\"]))\n",
    "        .field(\"pressure\", float(row[\"pressure\"]))\n",
    "        .field(\"air_temperature\", float(row[\"air_temperature\"]))\n",
    "        .field(\"wind_direction\", float(row[\"wind_direction\"])) \n",
    "        .time(row[\"date\"], WritePrecision.NS)\n",
    "    )\n",
    "    write_api.write(bucket=bucket, org=org, record=point)"
   ]
  },
  {
   "cell_type": "code",
   "execution_count": 8,
   "id": "2ffe21d9",
   "metadata": {},
   "outputs": [
    {
     "name": "stderr",
     "output_type": "stream",
     "text": [
      "100%|██████████| 650265/650265 [1:32:38<00:00, 116.99it/s] \n"
     ]
    }
   ],
   "source": [
    "write_api = client.write_api(write_options=SYNCHRONOUS)\n",
    "\n",
    "for _, row in tqdm(df_query.iterrows(), total=len(df_query)):\n",
    "    point = (\n",
    "        Point(\"query3_compund\")\n",
    "        .tag(\"compound\", str(row[\"compound\"]))\n",
    "        .tag(\"session_key\", str(row[\"session_key\"]))\n",
    "        .tag(\"driver_number\", str(row[\"driver_number\"]))\n",
    "        .field(\"stint_number\", int(row[\"stint_number\"]))\n",
    "        .field(\"tyre_age_at_start\", float(row[\"tyre_age_at_start\"]))\n",
    "        .field(\"lap_start\", int(row[\"lap_start\"]))\n",
    "        .field(\"lap_end\", int(row[\"lap_end\"]))\n",
    "        .field(\"track_temperature\", float(row[\"track_temperature\"]))\n",
    "        .field(\"wind_speed\", float(row[\"wind_speed\"]))\n",
    "        .field(\"rainfall\", int(row[\"rainfall\"]))  \n",
    "        .field(\"humidity\", float(row[\"humidity\"]))\n",
    "        .field(\"pressure\", float(row[\"pressure\"]))\n",
    "        .field(\"air_temperature\", float(row[\"air_temperature\"]))\n",
    "        .field(\"wind_direction\", float(row[\"wind_direction\"])) \n",
    "        .time(row[\"date\"], WritePrecision.NS)\n",
    "    )\n",
    "    write_api.write(bucket=bucket, org=org, record=point)"
   ]
  },
  {
   "cell_type": "code",
   "execution_count": 14,
   "id": "523b2053",
   "metadata": {},
   "outputs": [],
   "source": [
    "query = \"\"\"\n",
    "from(bucket: \"bucket-session-key\")\n",
    "  |> range(start: 0)\n",
    "  |> filter(fn: (r) => r._measurement == \"query3\")\n",
    "  |> pivot(\n",
    "      rowKey: [\"_time\"], \n",
    "      columnKey: [\"_field\"], \n",
    "      valueColumn: \"_value\"\n",
    "  )\n",
    "  |> map(fn: (r) => ({\n",
    "      r with\n",
    "      lap_duration: float(v: r.lap_end - r.lap_start)\n",
    "  }))\n",
    "  |> group(columns: [\"compound\"])\n",
    "  |> reduce(\n",
    "      identity: {count: 0.0, temp_sum: 0.0, max_lap: 0.0, compound: \"\"},\n",
    "      fn: (r, accumulator) => ({\n",
    "          count: accumulator.count + 1.0,\n",
    "          temp_sum: accumulator.temp_sum + r.track_temperature,\n",
    "          max_lap: if r.lap_duration > accumulator.max_lap then r.lap_duration else accumulator.max_lap,\n",
    "          compound: r.compound\n",
    "      })\n",
    "  )\n",
    "  |> map(fn: (r) => ({\n",
    "      CompostoPneu: r.compound,\n",
    "      TemperaturaMediaPista: r.temp_sum / r.count,\n",
    "      MaxLapDurationTyre: r.max_lap\n",
    "  }))\n",
    "  |> sort(columns: [\"MaxLapDurationTyre\"], desc: true)\n",
    "\"\"\"\n",
    "\n",
    "try:\n",
    "    df = query_api.query_data_frame(query=query)\n",
    "    if isinstance(df, list):\n",
    "        df = pd.concat(df, ignore_index=True)\n",
    "except Exception as e:\n",
    "    print(f\"Erro ao executar a consulta: {e}\")"
   ]
  },
  {
   "cell_type": "code",
   "execution_count": null,
   "id": "36a5d617",
   "metadata": {},
   "outputs": [
    {
     "data": {
      "text/html": [
       "<div>\n",
       "<style scoped>\n",
       "    .dataframe tbody tr th:only-of-type {\n",
       "        vertical-align: middle;\n",
       "    }\n",
       "\n",
       "    .dataframe tbody tr th {\n",
       "        vertical-align: top;\n",
       "    }\n",
       "\n",
       "    .dataframe thead th {\n",
       "        text-align: right;\n",
       "    }\n",
       "</style>\n",
       "<table border=\"1\" class=\"dataframe\">\n",
       "  <thead>\n",
       "    <tr style=\"text-align: right;\">\n",
       "      <th></th>\n",
       "      <th>result</th>\n",
       "      <th>table</th>\n",
       "      <th>MaxLapDurationTyre</th>\n",
       "      <th>CompostoPneu</th>\n",
       "      <th>TemperaturaMediaPista</th>\n",
       "    </tr>\n",
       "  </thead>\n",
       "  <tbody>\n",
       "    <tr>\n",
       "      <th>0</th>\n",
       "      <td>_result</td>\n",
       "      <td>0</td>\n",
       "      <td>55.0</td>\n",
       "      <td>HARD</td>\n",
       "      <td>36.624775</td>\n",
       "    </tr>\n",
       "    <tr>\n",
       "      <th>1</th>\n",
       "      <td>_result</td>\n",
       "      <td>0</td>\n",
       "      <td>54.0</td>\n",
       "      <td>MEDIUM</td>\n",
       "      <td>37.160920</td>\n",
       "    </tr>\n",
       "    <tr>\n",
       "      <th>2</th>\n",
       "      <td>_result</td>\n",
       "      <td>0</td>\n",
       "      <td>28.0</td>\n",
       "      <td>SOFT</td>\n",
       "      <td>36.227604</td>\n",
       "    </tr>\n",
       "    <tr>\n",
       "      <th>3</th>\n",
       "      <td>_result</td>\n",
       "      <td>0</td>\n",
       "      <td>25.0</td>\n",
       "      <td>INTERMEDIATE</td>\n",
       "      <td>24.453862</td>\n",
       "    </tr>\n",
       "    <tr>\n",
       "      <th>4</th>\n",
       "      <td>_result</td>\n",
       "      <td>0</td>\n",
       "      <td>16.0</td>\n",
       "      <td>WET</td>\n",
       "      <td>26.181012</td>\n",
       "    </tr>\n",
       "    <tr>\n",
       "      <th>5</th>\n",
       "      <td>_result</td>\n",
       "      <td>0</td>\n",
       "      <td>13.0</td>\n",
       "      <td>UNKNOWN</td>\n",
       "      <td>33.457454</td>\n",
       "    </tr>\n",
       "    <tr>\n",
       "      <th>6</th>\n",
       "      <td>_result</td>\n",
       "      <td>0</td>\n",
       "      <td>12.0</td>\n",
       "      <td>TEST_UNKNOWN</td>\n",
       "      <td>38.288612</td>\n",
       "    </tr>\n",
       "  </tbody>\n",
       "</table>\n",
       "</div>"
      ],
      "text/plain": [
       "    result  table  MaxLapDurationTyre  CompostoPneu  TemperaturaMediaPista\n",
       "0  _result      0                55.0          HARD              36.624775\n",
       "1  _result      0                54.0        MEDIUM              37.160920\n",
       "2  _result      0                28.0          SOFT              36.227604\n",
       "3  _result      0                25.0  INTERMEDIATE              24.453862\n",
       "4  _result      0                16.0           WET              26.181012\n",
       "5  _result      0                13.0       UNKNOWN              33.457454\n",
       "6  _result      0                12.0  TEST_UNKNOWN              38.288612"
      ]
     },
     "execution_count": 15,
     "metadata": {},
     "output_type": "execute_result"
    }
   ],
   "source": [
    "df"
   ]
  },
  {
   "cell_type": "markdown",
   "id": "4b38c293",
   "metadata": {},
   "source": [
    "# Resultos"
   ]
  },
  {
   "cell_type": "code",
   "execution_count": 21,
   "id": "82320544",
   "metadata": {},
   "outputs": [],
   "source": [
    "import numpy as np\n",
    "\n",
    "def get_statistics(durations):\n",
    "    \"\"\"\n",
    "    Calculate the mean and standard deviation of a list of durations.\n",
    "    \"\"\"\n",
    "    mean = np.mean(durations)\n",
    "    median = np.median(durations)\n",
    "    std = np.std(durations)\n",
    "    min_duration = np.min(durations)\n",
    "    max_duration = np.max(durations)\n",
    "\n",
    "    print(f\"Mean: {mean:.6f} s\")\n",
    "    print(f\"Median: {median:.6f} s\")\n",
    "    print(f\"Std Dev: {std:.6f} s\")\n",
    "    print(f\"Min: {min_duration:.6f} s\")\n",
    "    print(f\"Max: {max_duration:.6f} s\")"
   ]
  },
  {
   "cell_type": "code",
   "execution_count": 22,
   "id": "6fcca874",
   "metadata": {},
   "outputs": [],
   "source": [
    "results_raw_data = [\n",
    "    27.54,\n",
    "    27.64,\n",
    "    27.32,\n",
    "    26.73,\n",
    "    26.73,\n",
    "    27.71,\n",
    "    27.93,\n",
    "    27.12,\n",
    "    27.31,\n",
    "    27.26,\n",
    "]"
   ]
  },
  {
   "cell_type": "code",
   "execution_count": 23,
   "id": "ca4aa8bf",
   "metadata": {},
   "outputs": [
    {
     "name": "stdout",
     "output_type": "stream",
     "text": [
      "Mean: 27.329000 s\n",
      "Median: 27.315000 s\n",
      "Std Dev: 0.376044 s\n",
      "Min: 26.730000 s\n",
      "Max: 27.930000 s\n"
     ]
    }
   ],
   "source": [
    "get_statistics(results_raw_data)"
   ]
  },
  {
   "cell_type": "code",
   "execution_count": 11,
   "id": "40c1606d",
   "metadata": {},
   "outputs": [],
   "source": [
    "results_new_format_session_key = [\n",
    "    13.89,\n",
    "    14.89,\n",
    "    15.27,\n",
    "    13.80,\n",
    "    15.06,\n",
    "    13.48,\n",
    "    15.73,\n",
    "    15.39,\n",
    "    14.45,\n",
    "    14.27,\n",
    "    15.32,\n",
    "]"
   ]
  },
  {
   "cell_type": "code",
   "execution_count": 24,
   "id": "ae6c709d",
   "metadata": {},
   "outputs": [
    {
     "name": "stdout",
     "output_type": "stream",
     "text": [
      "Mean: 14.686364 s\n",
      "Median: 14.890000 s\n",
      "Std Dev: 0.714261 s\n",
      "Min: 13.480000 s\n",
      "Max: 15.730000 s\n"
     ]
    }
   ],
   "source": [
    "get_statistics(results_new_format_session_key)"
   ]
  },
  {
   "cell_type": "code",
   "execution_count": 12,
   "id": "73a2f633",
   "metadata": {},
   "outputs": [],
   "source": [
    "results_new_format_compund = [\n",
    "    16.61,\n",
    "    16.63,\n",
    "    16.09,\n",
    "    16.20,\n",
    "    17.15,\n",
    "    17.04,\n",
    "    16.72,\n",
    "    16.70,\n",
    "    16.12,\n",
    "    18.22,\n",
    "]"
   ]
  },
  {
   "cell_type": "code",
   "execution_count": 25,
   "id": "91515b14",
   "metadata": {},
   "outputs": [
    {
     "name": "stdout",
     "output_type": "stream",
     "text": [
      "Mean: 16.748000 s\n",
      "Median: 16.665000 s\n",
      "Std Dev: 0.598110 s\n",
      "Min: 16.090000 s\n",
      "Max: 18.220000 s\n"
     ]
    }
   ],
   "source": [
    "get_statistics(results_new_format_compund)"
   ]
  },
  {
   "cell_type": "code",
   "execution_count": 17,
   "id": "91f82b96",
   "metadata": {},
   "outputs": [],
   "source": [
    "best_results_postgres = [\n",
    "    0.187112,\n",
    "    0.184682,\n",
    "    0.294384,\n",
    "    0.172318,\n",
    "    0.206542,\n",
    "    0.192797,\n",
    "    0.302197,\n",
    "    0.200541,\n",
    "    0.241836,\n",
    "    0.17106,\n",
    "]"
   ]
  },
  {
   "cell_type": "code",
   "execution_count": 26,
   "id": "d557d37e",
   "metadata": {},
   "outputs": [
    {
     "name": "stdout",
     "output_type": "stream",
     "text": [
      "Mean: 0.215347 s\n",
      "Median: 0.196669 s\n",
      "Std Dev: 0.045659 s\n",
      "Min: 0.171060 s\n",
      "Max: 0.302197 s\n"
     ]
    }
   ],
   "source": [
    "get_statistics(best_results_postgres)"
   ]
  },
  {
   "cell_type": "code",
   "execution_count": 19,
   "id": "2285bfc4",
   "metadata": {},
   "outputs": [
    {
     "data": {
      "image/png": "[encoded data removed]",
      "text/plain": [
       "<Figure size 800x500 with 1 Axes>"
      ]
     },
     "metadata": {},
     "output_type": "display_data"
    },
    {
     "data": {
      "image/png": "[encoded data removed]",
      "text/plain": [
       "<Figure size 800x500 with 1 Axes>"
      ]
     },
     "metadata": {},
     "output_type": "display_data"
    }
   ],
   "source": [
    "import seaborn as sns\n",
    "import matplotlib.pyplot as plt\n",
    "\n",
    "means = {\n",
    "    \"Measure Padrão\": sum(results_raw_data) / len(results_raw_data),\n",
    "    \"Measure Formatada & session-key\": sum(results_new_format_session_key) / len(results_new_format_session_key),\n",
    "    \"Measure Formatada & compound\": sum(results_new_format_compund) / len(results_new_format_compund),\n",
    "    \"PostgreSQL\": sum(best_results_postgres) / len(best_results_postgres),\n",
    "}\n",
    "\n",
    "# Gráfico de Barras (Médias)\n",
    "plt.figure(figsize=(8, 5))\n",
    "plt.bar(means.keys(), means.values(), color=[\"#4C72B0\", \"#55A868\", \"#EAB839\"])\n",
    "plt.title(\"Duração Média por Formatação e Session Key/Compound\")\n",
    "plt.ylabel(\"Duração Média\")\n",
    "plt.xticks(rotation=45, ha='right') \n",
    "plt.tight_layout()\n",
    "plt.show()\n",
    "\n",
    "# Box Plot Horizontal\n",
    "plt.figure(figsize=(8, 5))\n",
    "sns.boxplot(data=[results_raw_data, results_new_format_session_key, results_new_format_compund, best_results_postgres], \n",
    "            palette=[\"#4C72B0\", \"#55A868\", \"#EAB839\", \"#EAB839\"], orient=\"h\")\n",
    "plt.yticks([0, 1, 2, 3], [\"Measure Padrão\", \"Measure Formatada & session-key\", \"Measure Formatada & compound\", \"PostgreSQL\"])\n",
    "plt.title(\"Distribuição de Duração por Formatação e Session Key/Compound\")\n",
    "plt.xlabel(\"Duração\")\n",
    "plt.show()"
   ]
  },
  {
   "cell_type": "code",
   "execution_count": null,
   "id": "ade45da7",
   "metadata": {},
   "outputs": [],
   "source": []
  }
 ],
 "metadata": {
  "kernelspec": {
   "display_name": "Python 3",
   "language": "python",
   "name": "python3"
  },
  "language_info": {
   "codemirror_mode": {
    "name": "ipython",
    "version": 3
   },
   "file_extension": ".py",
   "mimetype": "text/x-python",
   "name": "python",
   "nbconvert_exporter": "python",
   "pygments_lexer": "ipython3",
   "version": "3.10.12"
  }
 },
 "nbformat": 4,
 "nbformat_minor": 5
}
