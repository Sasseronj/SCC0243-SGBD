{
 "cells": [
  {
   "cell_type": "code",
   "execution_count": 10,
   "id": "835e6751",
   "metadata": {},
   "outputs": [],
   "source": [
    "import pickle\n",
    "import json\n",
    "import os\n",
    "import re\n",
    "import pandas as pd\n",
    "\n",
    "from urllib.request import urlopen\n",
    "from joblib import Parallel, delayed"
   ]
  },
  {
   "cell_type": "markdown",
   "id": "30e7a60d",
   "metadata": {},
   "source": [
    "# 1. Utils\n",
    "---"
   ]
  },
  {
   "cell_type": "code",
   "execution_count": 12,
   "id": "43f2ff82",
   "metadata": {},
   "outputs": [],
   "source": [
    "def save_parquet(path, file):\n",
    "    df = pd.DataFrame(file)\n",
    "    df.to_parquet(path)"
   ]
  },
  {
   "cell_type": "markdown",
   "id": "02b516df",
   "metadata": {},
   "source": [
    "# 2. Extract\n",
    "---"
   ]
  },
  {
   "cell_type": "markdown",
   "id": "41942125",
   "metadata": {},
   "source": [
    "## Telemetrys"
   ]
  },
  {
   "cell_type": "code",
   "execution_count": 13,
   "id": "8566d4b4",
   "metadata": {},
   "outputs": [],
   "source": [
    "response = urlopen(\"https://api.openf1.org/v1/drivers\")\n",
    "drivers = json.loads(response.read().decode(\"utf-8\"))"
   ]
  },
  {
   "cell_type": "code",
   "execution_count": null,
   "id": "8b96cf59",
   "metadata": {},
   "outputs": [],
   "source": [
    "def extract_car_data(path, driver):\n",
    "    try:\n",
    "        response = urlopen(f\"https://api.openf1.org/v1/car_data?driver_number={driver['driver_number']}&session_key={driver['session_key']}\")\n",
    "        car_data = json.loads(response.read().decode(\"utf-8\"))\n",
    "\n",
    "        save_parquet(\n",
    "            f\"{path}/session_key={driver['session_key']}&driver_number={driver['driver_number']}.pickle\",\n",
    "            car_data\n",
    "        )\n",
    "    except:\n",
    "        print(driver[\"session_key\"], driver[\"driver_number\"])"
   ]
  },
  {
   "cell_type": "code",
   "execution_count": 15,
   "id": "f49558ec",
   "metadata": {},
   "outputs": [],
   "source": [
    "path_telemetrys = \"./data/telemetrys\"\n",
    "session_key_drivers = set([driver[\"session_key\"] for driver in drivers])\n",
    "\n",
    "if not os.listdir(path_telemetrys):\n",
    "    for session_key in session_key_drivers:\n",
    "        filter_session_key = [driver for driver in aux if driver[\"session_key\"] == session_key]\n",
    "        Parallel(n_jobs=6)(delayed(extract_car_data)(path_telemetrys, driver) for driver in filter_session_key)"
   ]
  },
  {
   "cell_type": "markdown",
   "id": "ccc06562",
   "metadata": {},
   "source": [
    "## Drivers"
   ]
  },
  {
   "cell_type": "code",
   "execution_count": 16,
   "id": "d1bac809",
   "metadata": {},
   "outputs": [],
   "source": [
    "list_drivers = []\n",
    "list_sessions = []\n",
    "\n",
    "for file in os.listdir(path_telemetrys):\n",
    "    match = re.search(r\"session_key=(\\d+)&driver_number=(\\d+)\", file)\n",
    "    session_key = int(match.group(1))\n",
    "    driver_number = int(match.group(2))\n",
    "    \n",
    "    list_sessions.append(session_key)\n",
    "    list_drivers.append(driver_number)"
   ]
  },
  {
   "cell_type": "code",
   "execution_count": null,
   "id": "361e48d3",
   "metadata": {},
   "outputs": [],
   "source": [
    "path_drivers = \"./data/drivers\"\n",
    "save_drivers = [drive for drive in drivers if (drive[\"session_key\"], drive[\"driver_number\"]) in zip(list_sessions, list_drivers)]\n",
    "\n",
    "if not os.listdir(path_drivers):\n",
    "    save_parquet(f\"{path_drivers}/drivers.parquet\", save_drivers)"
   ]
  },
  {
   "cell_type": "markdown",
   "id": "bfea1507",
   "metadata": {},
   "source": [
    "## Laps"
   ]
  },
  {
   "cell_type": "code",
   "execution_count": 18,
   "id": "faeb1339",
   "metadata": {},
   "outputs": [],
   "source": [
    "path_laps = \"./data/laps\"\n",
    "\n",
    "if not os.listdir(path_laps):\n",
    "    for session_key, driver_number in zip(list_sessions, list_drivers):\n",
    "        try:\n",
    "            response = urlopen(f\"https://api.openf1.org/v1/laps?session_key={session_key}&driver_number={driver_number}\")\n",
    "            data = json.loads(response.read().decode(\"utf-8\"))\n",
    "            \n",
    "            save_parquet(f\"{path_laps}/session_key={session_key}&driver_number={driver_number}.parquet\", data)\n",
    "        except:\n",
    "            print(session_key, driver_number)"
   ]
  },
  {
   "cell_type": "markdown",
   "id": "7193d2d1",
   "metadata": {},
   "source": [
    "## Meetings"
   ]
  },
  {
   "cell_type": "code",
   "execution_count": null,
   "id": "17f105aa",
   "metadata": {},
   "outputs": [],
   "source": [
    "response = urlopen('https://api.openf1.org/v1/meetings')\n",
    "data = json.loads(response.read().decode('utf-8'))\n",
    "\n",
    "df = pd.DataFrame(data)\n",
    "list_meetings = [driver[\"meeting_key\"] for driver in save_drivers]\n",
    "df = df[df[\"meeting_key\"].isin(list_meetings)]\n",
    "\n",
    "df.to_parquet(\"./data/meetings/meetings.parquet\")"
   ]
  },
  {
   "cell_type": "markdown",
   "id": "af990add",
   "metadata": {},
   "source": [
    "## Pits"
   ]
  },
  {
   "cell_type": "code",
   "execution_count": null,
   "id": "e81bdb73",
   "metadata": {},
   "outputs": [],
   "source": [
    "response = urlopen('https://api.openf1.org/v1/pits')\n",
    "data = json.loads(response.read().decode('utf-8'))\n",
    "\n",
    "df = pd.DataFrame(data)\n",
    "df = df[df[\"session_key\"].isin(list_sessions)]\n",
    "\n",
    "df.to_parquet(\"./data/pits/pits.parquet\")"
   ]
  },
  {
   "cell_type": "markdown",
   "id": "4dcc42ac",
   "metadata": {},
   "source": [
    "## Position"
   ]
  },
  {
   "cell_type": "code",
   "execution_count": null,
   "id": "e120780f",
   "metadata": {},
   "outputs": [],
   "source": [
    "response = urlopen('https://api.openf1.org/v1/position')\n",
    "data = json.loads(response.read().decode('utf-8'))\n",
    "\n",
    "df = pd.DataFrame(data)\n",
    "df = df[df[\"session_key\"].isin(list_sessions)]\n",
    "\n",
    "df.to_parquet(\"./data/positions/positions.parquet\")"
   ]
  },
  {
   "cell_type": "markdown",
   "id": "a153aabc",
   "metadata": {},
   "source": [
    "# Session"
   ]
  },
  {
   "cell_type": "code",
   "execution_count": null,
   "id": "5f884eb6",
   "metadata": {},
   "outputs": [],
   "source": [
    "response = urlopen('https://api.openf1.org/v1/sessions')\n",
    "data = json.loads(response.read().decode('utf-8'))\n",
    "\n",
    "df = pd.DataFrame(data)\n",
    "df = df[df[\"session_key\"].isin(list_sessions)]\n",
    "\n",
    "df.to_parquet(\"./data/sessions/sessions.parquet\")"
   ]
  },
  {
   "cell_type": "markdown",
   "id": "b1da005c",
   "metadata": {},
   "source": [
    "## Stints"
   ]
  },
  {
   "cell_type": "code",
   "execution_count": null,
   "id": "bc36d66a",
   "metadata": {},
   "outputs": [],
   "source": [
    "response = urlopen('https://api.openf1.org/v1/stints')\n",
    "data = json.loads(response.read().decode('utf-8'))\n",
    "\n",
    "df = pd.DataFrame(data)\n",
    "df = df[df[\"session_key\"].isin(list_sessions)]\n",
    "\n",
    "df.to_parquet(\"./data/stints/stints.parquet\")"
   ]
  },
  {
   "cell_type": "markdown",
   "id": "76de5bce",
   "metadata": {},
   "source": [
    "# Race control"
   ]
  },
  {
   "cell_type": "code",
   "execution_count": null,
   "id": "9d5ed0e8",
   "metadata": {},
   "outputs": [],
   "source": [
    "response = urlopen('https://api.openf1.org/v1/race_control')\n",
    "data = json.loads(response.read().decode('utf-8'))\n",
    "\n",
    "df = pd.DataFrame(data)\n",
    "df = df[df[\"session_key\"].isin(list_sessions)]\n",
    "\n",
    "save_parquet(f\"./data/race_controls/race_controls.parquet\", data)"
   ]
  },
  {
   "cell_type": "markdown",
   "id": "6b3d3f23",
   "metadata": {},
   "source": [
    "# Weather"
   ]
  },
  {
   "cell_type": "code",
   "execution_count": null,
   "id": "adc359ac",
   "metadata": {},
   "outputs": [],
   "source": [
    "response = urlopen('https://api.openf1.org/v1/weather')\n",
    "data = json.loads(response.read().decode('utf-8'))\n",
    "\n",
    "df = pd.DataFrame(data)\n",
    "df = df[df[\"session_key\"].isin(list_sessions)]\n",
    "\n",
    "save_parquet(f\"./data/weather_conditions/weather_conditions.parquet\", data)"
   ]
  }
 ],
 "metadata": {
  "kernelspec": {
   "display_name": "3.13.3",
   "language": "python",
   "name": "python3"
  },
  "language_info": {
   "codemirror_mode": {
    "name": "ipython",
    "version": 3
   },
   "file_extension": ".py",
   "mimetype": "text/x-python",
   "name": "python",
   "nbconvert_exporter": "python",
   "pygments_lexer": "ipython3",
   "version": "3.13.3"
  }
 },
 "nbformat": 4,
 "nbformat_minor": 5
}
